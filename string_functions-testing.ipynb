{
 "cells": [
  {
   "cell_type": "code",
   "execution_count": 34,
   "metadata": {},
   "outputs": [],
   "source": [
    "def say_hello(name):\n",
    "    return \"Hi my name is {}\".format(name)\n",
    "    # takes in a name and returns the string \"Hi my name is \" plus the name\n",
    "    # use whichever form of interpolation is most appropriate\n"
   ]
  },
  {
   "cell_type": "code",
   "execution_count": 35,
   "metadata": {},
   "outputs": [
    {
     "data": {
      "text/plain": [
       "'Hi my name is Patrina'"
      ]
     },
     "execution_count": 35,
     "metadata": {},
     "output_type": "execute_result"
    }
   ],
   "source": [
    "say_hello('Patrina')"
   ]
  },
  {
   "cell_type": "code",
   "execution_count": 39,
   "metadata": {},
   "outputs": [],
   "source": [
    "\n",
    "def replace_given_substring(str_to_replace, str_to_insert, string):\n",
    "    return string.replace(str_to_replace, str_to_insert)\n",
    "    # this function takes three parameters --\n",
    "    # the first is the substring we would like to replace.\n",
    "    # the second substring is what we would like to use inplace of the first\n",
    "    # the third is the actual string which we want to operate on\n",
    "    # the function should return the new string\n"
   ]
  },
  {
   "cell_type": "code",
   "execution_count": 41,
   "metadata": {},
   "outputs": [
    {
     "data": {
      "text/plain": [
       "'I love JavaScript so much. JavaScript is the best language for interactive, dynamic UIs. Yay JavaScript'"
      ]
     },
     "execution_count": 41,
     "metadata": {},
     "output_type": "execute_result"
    }
   ],
   "source": [
    "replace_given_substring('Python', 'JavaScript', \"I love Python so much. Python is the best language for interactive, dynamic UIs. Yay Python\")"
   ]
  },
  {
   "cell_type": "code",
   "execution_count": 11,
   "metadata": {},
   "outputs": [],
   "source": [
    "def remove_duplicate_punctuation(string_var):\n",
    "    import string\n",
    "    new_string = ''\n",
    "    punctuation = string.punctuation\n",
    "    for x in range(1,(len(string_var))):\n",
    "        if string_var[x-1] not in punctuation:\n",
    "            new_string = new_string + string_var[x-1]\n",
    "        elif string_var[x-1] != string_var[x]:\n",
    "            new_string = new_string + string_var[x-1]\n",
    "    return new_string + string_var[-1]\n"
   ]
  },
  {
   "cell_type": "code",
   "execution_count": 13,
   "metadata": {},
   "outputs": [
    {
     "data": {
      "text/plain": [
       "'Hello. My name is Terrance! How are you?'"
      ]
     },
     "execution_count": 13,
     "metadata": {},
     "output_type": "execute_result"
    }
   ],
   "source": [
    "remove_duplicate_punctuation('Hello..... My name is Terrance!! How are you???')"
   ]
  },
  {
   "cell_type": "code",
   "execution_count": 15,
   "metadata": {},
   "outputs": [],
   "source": [
    "\n",
    "def validate_email_format(email):\n",
    "    import string\n",
    "    if email.count('@') == 1 and email.count('.com') == 1:\n",
    "        special_char = string.punctuation\n",
    "        person_part = (email.split('@'))[0]\n",
    "        correct_email = ''\n",
    "        for char in person_part:\n",
    "            if char not in special_char:\n",
    "                correct_email = correct_email + char\n",
    "        if correct_email == person_part:\n",
    "            return True\n",
    "        else:\n",
    "            return False\n",
    "    else:\n",
    "        return False\n",
    "\n",
    "\n",
    "            \n",
    "#                 correct_email = correct_email + char\n",
    "\n",
    "    # should make sure there are no special characters (i.e. *,~,#,$,%,&,(,),`,\",',:,;,/,>,<)\n",
    "    # make sure the email contains an @ symbol and a .com\n",
    "    # return True if format passes tests, return False otherwise"
   ]
  },
  {
   "cell_type": "code",
   "execution_count": 17,
   "metadata": {},
   "outputs": [
    {
     "data": {
      "text/plain": [
       "False"
      ]
     },
     "execution_count": 17,
     "metadata": {},
     "output_type": "execute_result"
    }
   ],
   "source": [
    "validate_email_format('sk@terbrahhang10@yahoo.com')\n"
   ]
  },
  {
   "cell_type": "code",
   "execution_count": 69,
   "metadata": {},
   "outputs": [],
   "source": [
    "\n",
    "def anonymize_credit_card_number(credit_card_number):\n",
    "    credit_card = credit_card_number[:-4]\n",
    "    ccn = ''\n",
    "    for char in credit_card:\n",
    "        try:\n",
    "            if type(int(char)) == int:\n",
    "                ccn = ccn + 'X' \n",
    "        except:\n",
    "            ccn = ccn + char\n",
    "    return ccn + credit_card_number[-4:]\n",
    "    # should replace all characters except the last 4 with 'X'\n",
    "    # return the anonymized credit card number as a string\n",
    "    # the credit card may have characters that are not numbers (i.e. spaces and dashes, which we would want to keep)\n",
    "    # i.e. 1234-5678-90-1234 -> XXXX-XXXX-XX-1234"
   ]
  },
  {
   "cell_type": "code",
   "execution_count": 72,
   "metadata": {},
   "outputs": [
    {
     "data": {
      "text/plain": [
       "'XXXX XXXX XX 1234'"
      ]
     },
     "execution_count": 72,
     "metadata": {},
     "output_type": "execute_result"
    }
   ],
   "source": [
    "anonymize_credit_card_number('1234 5678 90 1234')"
   ]
  },
  {
   "cell_type": "code",
   "execution_count": null,
   "metadata": {},
   "outputs": [],
   "source": []
  }
 ],
 "metadata": {
  "kernelspec": {
   "display_name": "Python 3",
   "language": "python",
   "name": "python3"
  },
  "language_info": {
   "codemirror_mode": {
    "name": "ipython",
    "version": 3
   },
   "file_extension": ".py",
   "mimetype": "text/x-python",
   "name": "python",
   "nbconvert_exporter": "python",
   "pygments_lexer": "ipython3",
   "version": "3.7.0"
  }
 },
 "nbformat": 4,
 "nbformat_minor": 2
}
